{
 "cells": [
  {
   "cell_type": "markdown",
   "id": "48041c03-9cc4-46c9-97b7-99898a43ecb9",
   "metadata": {
    "jp-MarkdownHeadingCollapsed": true,
    "tags": []
   },
   "source": [
    "## 1. Pip Install GPT-2 Simple Package"
   ]
  },
  {
   "cell_type": "markdown",
   "id": "84f47270-0b89-474e-905f-9bad54ff6ce0",
   "metadata": {},
   "source": [
    "GPT-2-Simple Github Repo / Explainer \\\n",
    "https://github.com/minimaxir/gpt-2-simple"
   ]
  },
  {
   "cell_type": "code",
   "execution_count": null,
   "id": "b4cf8fac-650e-428c-9ee2-721cec132818",
   "metadata": {},
   "outputs": [],
   "source": [
    "# pip install gpt-2-simple package\n",
    "! pip3 install gpt-2-simple"
   ]
  },
  {
   "cell_type": "markdown",
   "id": "25aa5c0d-dbdd-4087-9bab-9fa68030562e",
   "metadata": {
    "jp-MarkdownHeadingCollapsed": true,
    "tags": []
   },
   "source": [
    "## 2. Importing Package & Downloading Model"
   ]
  },
  {
   "cell_type": "code",
   "execution_count": null,
   "id": "6f4e220d-6578-4c08-86ce-656350e146ec",
   "metadata": {},
   "outputs": [],
   "source": [
    "# import package so can access functions\n",
    "import gpt_2_simple as gpt2"
   ]
  },
  {
   "cell_type": "code",
   "execution_count": 49,
   "id": "4925c5bd-45d7-4980-b6de-462dceceea57",
   "metadata": {},
   "outputs": [],
   "source": [
    "# needed for cell below\n",
    "import os"
   ]
  },
  {
   "cell_type": "code",
   "execution_count": null,
   "id": "e0f4a537-d05b-4556-98d4-4d175fcc09a3",
   "metadata": {},
   "outputs": [],
   "source": [
    "# this cell downloads a version of the model for training locally\n",
    "# have set it to the smallest version 124M\n",
    "# can switch for a larger version but will take muchh longer to train.\n",
    "# this is set to download only if you don't have version in the current directory.\n",
    "# if the download crashses partway through, you should delete models folder before re-running cell\n",
    "\n",
    "model_name = \"124M\"\n",
    "if not os.path.isdir(os.path.join(\"models\", model_name)):\n",
    "    print(f\"Downloading {model_name} model...\")\n",
    "    gpt2.download_gpt2(model_name=model_name)   # model is saved into current directory under /models/124M/\n"
   ]
  },
  {
   "cell_type": "markdown",
   "id": "fba79c19-12c6-45c1-bdc4-f5065246921a",
   "metadata": {
    "jp-MarkdownHeadingCollapsed": true,
    "tags": []
   },
   "source": [
    "## 3. Fine-tuning Model"
   ]
  },
  {
   "cell_type": "code",
   "execution_count": null,
   "id": "acc389fc-53bb-4d00-9a80-c0a5b2978b2b",
   "metadata": {},
   "outputs": [],
   "source": [
    "# need to give the path / name to the text you want to fine-tune on\n",
    "# easiest if you put in the same directory as the notebook\n",
    "# I've used a txt file of children's stories\n",
    "file_name = \"fairytales.txt\""
   ]
  },
  {
   "cell_type": "code",
   "execution_count": null,
   "id": "c3965e92-e7ce-46e5-8053-8966e4f5a332",
   "metadata": {},
   "outputs": [],
   "source": [
    "# finetune the model\n",
    "# choose the number of steps, should ideally be thousands \n",
    "sess = gpt2.start_tf_sess()\n",
    "gpt2.finetune(sess,\n",
    "              file_name,\n",
    "              model_name=model_name,\n",
    "              steps=2)   # steps is max number of training steps"
   ]
  },
  {
   "cell_type": "markdown",
   "id": "126c6a35-51ad-48ad-b556-a48675bb802b",
   "metadata": {},
   "source": [
    "## 4. Generating Text Locally"
   ]
  },
  {
   "cell_type": "code",
   "execution_count": 50,
   "id": "d63aca23-55b1-4221-b266-c1b5b555e1c6",
   "metadata": {},
   "outputs": [],
   "source": [
    "# first create a text prompt to give to the generate function\n",
    "prompt = \"The King was lonely \""
   ]
  },
  {
   "cell_type": "code",
   "execution_count": null,
   "id": "0b28f98a-85bf-49de-9bac-8521148bb54e",
   "metadata": {},
   "outputs": [],
   "source": [
    "# use gpt2.generate to generate text\n",
    "# lots of parameters that you can change inside this function\n",
    "# in particular length (of output), number of samples\n",
    "# can shift tab to see all the parameters (or look at thhe github repo)\n",
    "# if hahve multiple parameters return as list.\n",
    "\n",
    "gen_text = gpt2.generate(sess,\n",
    "            prefix = prompt,\n",
    "            length = 10,\n",
    "            nsamples = 3,\n",
    "            return_as_list=True\n",
    "            )"
   ]
  },
  {
   "cell_type": "code",
   "execution_count": null,
   "id": "473acb9b-bb2f-4d2a-9543-5e06733377f9",
   "metadata": {},
   "outputs": [],
   "source": [
    "# check output\n",
    "gen_text[0]"
   ]
  },
  {
   "cell_type": "code",
   "execution_count": null,
   "id": "45eb7012-8311-4965-8219-2a8c0c7c0abc",
   "metadata": {},
   "outputs": [],
   "source": [
    "# can also generate directly without any prompt\n",
    "# gpt2.generate(sess)"
   ]
  },
  {
   "cell_type": "markdown",
   "id": "c5cdd928-0ac6-45ea-aa27-ba5cb0d9f885",
   "metadata": {
    "tags": []
   },
   "source": [
    "# 5. Testing out the API having setup with FastAPI / Uvicorn"
   ]
  },
  {
   "cell_type": "code",
   "execution_count": 12,
   "id": "2f5a3068-dadd-4816-814b-c0c0bc73e653",
   "metadata": {},
   "outputs": [],
   "source": [
    "import requests"
   ]
  },
  {
   "cell_type": "code",
   "execution_count": 19,
   "id": "1230ebdd-e11b-4950-8b00-cb8ed907051c",
   "metadata": {},
   "outputs": [],
   "source": [
    "# setup the url to make a get request too\n",
    "# need to setup FastAPI and uvicorn separately\n",
    "url = 'http://localhost:8000/generate'"
   ]
  },
  {
   "cell_type": "code",
   "execution_count": 46,
   "id": "67bb6d43-2e6f-44ff-adda-83a0523f721c",
   "metadata": {},
   "outputs": [],
   "source": [
    "# the \"prompt\" from wwhihchh to generate text\n",
    "payload = {'prompt':'The King sat alone in his castle.'}"
   ]
  },
  {
   "cell_type": "code",
   "execution_count": 47,
   "id": "6ea9a5fc-9ab9-4fa2-b670-4a96cd3a3889",
   "metadata": {},
   "outputs": [
    {
     "data": {
      "text/plain": [
       "['Johnny and Lunde walked into a castle and made a quick exit. Ron Weasley invited them to a small banquet, where they were served a',\n",
       " 'Johnny and Lunde walked into a castle and took the keys to the castle. They walked across the bridge of the bridge and down a hallway',\n",
       " 'Johnny and Lunde walked into a castle, where they were met by a military officer, a sergeant, and a woman, who were seized']"
      ]
     },
     "execution_count": 47,
     "metadata": {},
     "output_type": "execute_result"
    }
   ],
   "source": [
    "# get request into the API\n",
    "response=requests.get(url, params=payload)\n",
    "response.json()['text']0"
   ]
  }
 ],
 "metadata": {
  "kernelspec": {
   "display_name": "Python 3 (ipykernel)",
   "language": "python",
   "name": "python3"
  },
  "language_info": {
   "codemirror_mode": {
    "name": "ipython",
    "version": 3
   },
   "file_extension": ".py",
   "mimetype": "text/x-python",
   "name": "python",
   "nbconvert_exporter": "python",
   "pygments_lexer": "ipython3",
   "version": "3.8.6"
  }
 },
 "nbformat": 4,
 "nbformat_minor": 5
}
